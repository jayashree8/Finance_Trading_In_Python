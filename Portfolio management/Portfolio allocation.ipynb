{
 "cells": [
  {
   "cell_type": "markdown",
   "metadata": {},
   "source": [
    "# Portfolio allocation"
   ]
  },
  {
   "cell_type": "markdown",
   "metadata": {},
   "source": [
    "## Import packages\n",
    "The basic packages like Pandas will be imported. Along with it, the Quandl package is imported to get the data."
   ]
  },
  {
   "cell_type": "code",
   "execution_count": 1,
   "metadata": {},
   "outputs": [],
   "source": [
    "import pandas as pd\n",
    "import quandl\n",
    "import matplotlib.pyplot as plt\n",
    "%matplotlib inline"
   ]
  },
  {
   "cell_type": "markdown",
   "metadata": {},
   "source": [
    "## Data\n",
    "The start and end date is decided during which the data will be extracted and worked on."
   ]
  },
  {
   "cell_type": "code",
   "execution_count": 2,
   "metadata": {},
   "outputs": [],
   "source": [
    "start = pd.to_datetime('2014-01-01')\n",
    "end = pd.to_datetime('2016-01-01')"
   ]
  },
  {
   "cell_type": "markdown",
   "metadata": {},
   "source": [
    "Then the data of 3 companies are extracted. They are facebook, apple and twitter. The 11th column which is adjusted close is obtained since the analysis will be done using it."
   ]
  },
  {
   "cell_type": "code",
   "execution_count": 3,
   "metadata": {},
   "outputs": [],
   "source": [
    "fb = quandl.get('WIKI/FB.11',start_date=start, end_date=end)\n",
    "twtr = quandl.get('WIKI/TWTR.11',start_date=start, end_date=end)\n",
    "aapl = quandl.get('WIKI/AAPL.11',start_date=start, end_date=end)"
   ]
  },
  {
   "cell_type": "code",
   "execution_count": 4,
   "metadata": {},
   "outputs": [
    {
     "data": {
      "text/html": [
       "<div>\n",
       "<style scoped>\n",
       "    .dataframe tbody tr th:only-of-type {\n",
       "        vertical-align: middle;\n",
       "    }\n",
       "\n",
       "    .dataframe tbody tr th {\n",
       "        vertical-align: top;\n",
       "    }\n",
       "\n",
       "    .dataframe thead th {\n",
       "        text-align: right;\n",
       "    }\n",
       "</style>\n",
       "<table border=\"1\" class=\"dataframe\">\n",
       "  <thead>\n",
       "    <tr style=\"text-align: right;\">\n",
       "      <th></th>\n",
       "      <th>Adj. Close</th>\n",
       "    </tr>\n",
       "    <tr>\n",
       "      <th>Date</th>\n",
       "      <th></th>\n",
       "    </tr>\n",
       "  </thead>\n",
       "  <tbody>\n",
       "    <tr>\n",
       "      <th>2014-01-02</th>\n",
       "      <td>54.710</td>\n",
       "    </tr>\n",
       "    <tr>\n",
       "      <th>2014-01-03</th>\n",
       "      <td>54.557</td>\n",
       "    </tr>\n",
       "    <tr>\n",
       "      <th>2014-01-06</th>\n",
       "      <td>57.200</td>\n",
       "    </tr>\n",
       "    <tr>\n",
       "      <th>2014-01-07</th>\n",
       "      <td>57.920</td>\n",
       "    </tr>\n",
       "    <tr>\n",
       "      <th>2014-01-08</th>\n",
       "      <td>58.230</td>\n",
       "    </tr>\n",
       "  </tbody>\n",
       "</table>\n",
       "</div>"
      ],
      "text/plain": [
       "            Adj. Close\n",
       "Date                  \n",
       "2014-01-02      54.710\n",
       "2014-01-03      54.557\n",
       "2014-01-06      57.200\n",
       "2014-01-07      57.920\n",
       "2014-01-08      58.230"
      ]
     },
     "execution_count": 4,
     "metadata": {},
     "output_type": "execute_result"
    }
   ],
   "source": [
    "fb.head()"
   ]
  },
  {
   "cell_type": "code",
   "execution_count": 5,
   "metadata": {},
   "outputs": [
    {
     "data": {
      "text/html": [
       "<div>\n",
       "<style scoped>\n",
       "    .dataframe tbody tr th:only-of-type {\n",
       "        vertical-align: middle;\n",
       "    }\n",
       "\n",
       "    .dataframe tbody tr th {\n",
       "        vertical-align: top;\n",
       "    }\n",
       "\n",
       "    .dataframe thead th {\n",
       "        text-align: right;\n",
       "    }\n",
       "</style>\n",
       "<table border=\"1\" class=\"dataframe\">\n",
       "  <thead>\n",
       "    <tr style=\"text-align: right;\">\n",
       "      <th></th>\n",
       "      <th>Adj. Close</th>\n",
       "    </tr>\n",
       "    <tr>\n",
       "      <th>Date</th>\n",
       "      <th></th>\n",
       "    </tr>\n",
       "  </thead>\n",
       "  <tbody>\n",
       "    <tr>\n",
       "      <th>2014-01-02</th>\n",
       "      <td>67.50</td>\n",
       "    </tr>\n",
       "    <tr>\n",
       "      <th>2014-01-03</th>\n",
       "      <td>69.00</td>\n",
       "    </tr>\n",
       "    <tr>\n",
       "      <th>2014-01-06</th>\n",
       "      <td>66.29</td>\n",
       "    </tr>\n",
       "    <tr>\n",
       "      <th>2014-01-07</th>\n",
       "      <td>61.46</td>\n",
       "    </tr>\n",
       "    <tr>\n",
       "      <th>2014-01-08</th>\n",
       "      <td>59.29</td>\n",
       "    </tr>\n",
       "  </tbody>\n",
       "</table>\n",
       "</div>"
      ],
      "text/plain": [
       "            Adj. Close\n",
       "Date                  \n",
       "2014-01-02       67.50\n",
       "2014-01-03       69.00\n",
       "2014-01-06       66.29\n",
       "2014-01-07       61.46\n",
       "2014-01-08       59.29"
      ]
     },
     "execution_count": 5,
     "metadata": {},
     "output_type": "execute_result"
    }
   ],
   "source": [
    "twtr.head()"
   ]
  },
  {
   "cell_type": "code",
   "execution_count": 6,
   "metadata": {},
   "outputs": [
    {
     "data": {
      "text/html": [
       "<div>\n",
       "<style scoped>\n",
       "    .dataframe tbody tr th:only-of-type {\n",
       "        vertical-align: middle;\n",
       "    }\n",
       "\n",
       "    .dataframe tbody tr th {\n",
       "        vertical-align: top;\n",
       "    }\n",
       "\n",
       "    .dataframe thead th {\n",
       "        text-align: right;\n",
       "    }\n",
       "</style>\n",
       "<table border=\"1\" class=\"dataframe\">\n",
       "  <thead>\n",
       "    <tr style=\"text-align: right;\">\n",
       "      <th></th>\n",
       "      <th>Adj. Close</th>\n",
       "    </tr>\n",
       "    <tr>\n",
       "      <th>Date</th>\n",
       "      <th></th>\n",
       "    </tr>\n",
       "  </thead>\n",
       "  <tbody>\n",
       "    <tr>\n",
       "      <th>2014-01-02</th>\n",
       "      <td>73.523423</td>\n",
       "    </tr>\n",
       "    <tr>\n",
       "      <th>2014-01-03</th>\n",
       "      <td>71.908415</td>\n",
       "    </tr>\n",
       "    <tr>\n",
       "      <th>2014-01-06</th>\n",
       "      <td>72.300536</td>\n",
       "    </tr>\n",
       "    <tr>\n",
       "      <th>2014-01-07</th>\n",
       "      <td>71.783135</td>\n",
       "    </tr>\n",
       "    <tr>\n",
       "      <th>2014-01-08</th>\n",
       "      <td>72.238063</td>\n",
       "    </tr>\n",
       "  </tbody>\n",
       "</table>\n",
       "</div>"
      ],
      "text/plain": [
       "            Adj. Close\n",
       "Date                  \n",
       "2014-01-02   73.523423\n",
       "2014-01-03   71.908415\n",
       "2014-01-06   72.300536\n",
       "2014-01-07   71.783135\n",
       "2014-01-08   72.238063"
      ]
     },
     "execution_count": 6,
     "metadata": {},
     "output_type": "execute_result"
    }
   ],
   "source": [
    "aapl.head()"
   ]
  },
  {
   "cell_type": "markdown",
   "metadata": {},
   "source": [
    "## Finding returns"
   ]
  },
  {
   "cell_type": "markdown",
   "metadata": {},
   "source": [
    "So first the normalized return will be calculated which is the value of adjusted close for each index divided by the initial value of adjusted close value."
   ]
  },
  {
   "cell_type": "code",
   "execution_count": 7,
   "metadata": {},
   "outputs": [],
   "source": [
    "for s_df in (fb,twtr,aapl):\n",
    "    s_df['Normalized Return'] = s_df['Adj. Close']/s_df.iloc[0]['Adj. Close']"
   ]
  },
  {
   "cell_type": "code",
   "execution_count": 8,
   "metadata": {},
   "outputs": [
    {
     "data": {
      "text/html": [
       "<div>\n",
       "<style scoped>\n",
       "    .dataframe tbody tr th:only-of-type {\n",
       "        vertical-align: middle;\n",
       "    }\n",
       "\n",
       "    .dataframe tbody tr th {\n",
       "        vertical-align: top;\n",
       "    }\n",
       "\n",
       "    .dataframe thead th {\n",
       "        text-align: right;\n",
       "    }\n",
       "</style>\n",
       "<table border=\"1\" class=\"dataframe\">\n",
       "  <thead>\n",
       "    <tr style=\"text-align: right;\">\n",
       "      <th></th>\n",
       "      <th>Adj. Close</th>\n",
       "      <th>Normalized Return</th>\n",
       "    </tr>\n",
       "    <tr>\n",
       "      <th>Date</th>\n",
       "      <th></th>\n",
       "      <th></th>\n",
       "    </tr>\n",
       "  </thead>\n",
       "  <tbody>\n",
       "    <tr>\n",
       "      <th>2014-01-02</th>\n",
       "      <td>54.710</td>\n",
       "      <td>1.000000</td>\n",
       "    </tr>\n",
       "    <tr>\n",
       "      <th>2014-01-03</th>\n",
       "      <td>54.557</td>\n",
       "      <td>0.997203</td>\n",
       "    </tr>\n",
       "    <tr>\n",
       "      <th>2014-01-06</th>\n",
       "      <td>57.200</td>\n",
       "      <td>1.045513</td>\n",
       "    </tr>\n",
       "    <tr>\n",
       "      <th>2014-01-07</th>\n",
       "      <td>57.920</td>\n",
       "      <td>1.058673</td>\n",
       "    </tr>\n",
       "    <tr>\n",
       "      <th>2014-01-08</th>\n",
       "      <td>58.230</td>\n",
       "      <td>1.064339</td>\n",
       "    </tr>\n",
       "  </tbody>\n",
       "</table>\n",
       "</div>"
      ],
      "text/plain": [
       "            Adj. Close  Normalized Return\n",
       "Date                                     \n",
       "2014-01-02      54.710           1.000000\n",
       "2014-01-03      54.557           0.997203\n",
       "2014-01-06      57.200           1.045513\n",
       "2014-01-07      57.920           1.058673\n",
       "2014-01-08      58.230           1.064339"
      ]
     },
     "execution_count": 8,
     "metadata": {},
     "output_type": "execute_result"
    }
   ],
   "source": [
    "fb.head()"
   ]
  },
  {
   "cell_type": "markdown",
   "metadata": {},
   "source": [
    "## Allocations\n",
    "Now let's assume the allocations for the three stocks.\n",
    "50% of the money is allocated to facebook stock, 30% of the money is allocated to twitter stock and 20% of the money is allocated to apple stock. So now the allocations are found out by multiplying the percent with the returns."
   ]
  },
  {
   "cell_type": "code",
   "execution_count": 9,
   "metadata": {},
   "outputs": [],
   "source": [
    "for s_df, allocation in zip((fb,twtr,aapl),[0.5,0.3,0.2]):\n",
    "    s_df['Allocation'] = s_df['Normalized Return']*allocation"
   ]
  },
  {
   "cell_type": "code",
   "execution_count": 10,
   "metadata": {},
   "outputs": [
    {
     "data": {
      "text/html": [
       "<div>\n",
       "<style scoped>\n",
       "    .dataframe tbody tr th:only-of-type {\n",
       "        vertical-align: middle;\n",
       "    }\n",
       "\n",
       "    .dataframe tbody tr th {\n",
       "        vertical-align: top;\n",
       "    }\n",
       "\n",
       "    .dataframe thead th {\n",
       "        text-align: right;\n",
       "    }\n",
       "</style>\n",
       "<table border=\"1\" class=\"dataframe\">\n",
       "  <thead>\n",
       "    <tr style=\"text-align: right;\">\n",
       "      <th></th>\n",
       "      <th>Adj. Close</th>\n",
       "      <th>Normalized Return</th>\n",
       "      <th>Allocation</th>\n",
       "    </tr>\n",
       "    <tr>\n",
       "      <th>Date</th>\n",
       "      <th></th>\n",
       "      <th></th>\n",
       "      <th></th>\n",
       "    </tr>\n",
       "  </thead>\n",
       "  <tbody>\n",
       "    <tr>\n",
       "      <th>2014-01-02</th>\n",
       "      <td>54.710</td>\n",
       "      <td>1.000000</td>\n",
       "      <td>0.500000</td>\n",
       "    </tr>\n",
       "    <tr>\n",
       "      <th>2014-01-03</th>\n",
       "      <td>54.557</td>\n",
       "      <td>0.997203</td>\n",
       "      <td>0.498602</td>\n",
       "    </tr>\n",
       "    <tr>\n",
       "      <th>2014-01-06</th>\n",
       "      <td>57.200</td>\n",
       "      <td>1.045513</td>\n",
       "      <td>0.522756</td>\n",
       "    </tr>\n",
       "    <tr>\n",
       "      <th>2014-01-07</th>\n",
       "      <td>57.920</td>\n",
       "      <td>1.058673</td>\n",
       "      <td>0.529337</td>\n",
       "    </tr>\n",
       "    <tr>\n",
       "      <th>2014-01-08</th>\n",
       "      <td>58.230</td>\n",
       "      <td>1.064339</td>\n",
       "      <td>0.532170</td>\n",
       "    </tr>\n",
       "  </tbody>\n",
       "</table>\n",
       "</div>"
      ],
      "text/plain": [
       "            Adj. Close  Normalized Return  Allocation\n",
       "Date                                                 \n",
       "2014-01-02      54.710           1.000000    0.500000\n",
       "2014-01-03      54.557           0.997203    0.498602\n",
       "2014-01-06      57.200           1.045513    0.522756\n",
       "2014-01-07      57.920           1.058673    0.529337\n",
       "2014-01-08      58.230           1.064339    0.532170"
      ]
     },
     "execution_count": 10,
     "metadata": {},
     "output_type": "execute_result"
    }
   ],
   "source": [
    "fb.head()"
   ]
  },
  {
   "cell_type": "markdown",
   "metadata": {},
   "source": [
    "## Position value\n",
    "Assuming that 1 lakh rupees is invested. So according to this the position value will be calculated which is the multiplication of the allocation and the investment."
   ]
  },
  {
   "cell_type": "code",
   "execution_count": 11,
   "metadata": {},
   "outputs": [],
   "source": [
    "investment = 100000\n",
    "\n",
    "for s_df in (fb,twtr,aapl):\n",
    "    s_df['Position value'] = s_df['Allocation'] * investment"
   ]
  },
  {
   "cell_type": "code",
   "execution_count": 12,
   "metadata": {},
   "outputs": [
    {
     "data": {
      "text/html": [
       "<div>\n",
       "<style scoped>\n",
       "    .dataframe tbody tr th:only-of-type {\n",
       "        vertical-align: middle;\n",
       "    }\n",
       "\n",
       "    .dataframe tbody tr th {\n",
       "        vertical-align: top;\n",
       "    }\n",
       "\n",
       "    .dataframe thead th {\n",
       "        text-align: right;\n",
       "    }\n",
       "</style>\n",
       "<table border=\"1\" class=\"dataframe\">\n",
       "  <thead>\n",
       "    <tr style=\"text-align: right;\">\n",
       "      <th></th>\n",
       "      <th>Adj. Close</th>\n",
       "      <th>Normalized Return</th>\n",
       "      <th>Allocation</th>\n",
       "      <th>Position value</th>\n",
       "    </tr>\n",
       "    <tr>\n",
       "      <th>Date</th>\n",
       "      <th></th>\n",
       "      <th></th>\n",
       "      <th></th>\n",
       "      <th></th>\n",
       "    </tr>\n",
       "  </thead>\n",
       "  <tbody>\n",
       "    <tr>\n",
       "      <th>2014-01-02</th>\n",
       "      <td>54.710</td>\n",
       "      <td>1.000000</td>\n",
       "      <td>0.500000</td>\n",
       "      <td>50000.000000</td>\n",
       "    </tr>\n",
       "    <tr>\n",
       "      <th>2014-01-03</th>\n",
       "      <td>54.557</td>\n",
       "      <td>0.997203</td>\n",
       "      <td>0.498602</td>\n",
       "      <td>49860.171815</td>\n",
       "    </tr>\n",
       "    <tr>\n",
       "      <th>2014-01-06</th>\n",
       "      <td>57.200</td>\n",
       "      <td>1.045513</td>\n",
       "      <td>0.522756</td>\n",
       "      <td>52275.635167</td>\n",
       "    </tr>\n",
       "    <tr>\n",
       "      <th>2014-01-07</th>\n",
       "      <td>57.920</td>\n",
       "      <td>1.058673</td>\n",
       "      <td>0.529337</td>\n",
       "      <td>52933.650155</td>\n",
       "    </tr>\n",
       "    <tr>\n",
       "      <th>2014-01-08</th>\n",
       "      <td>58.230</td>\n",
       "      <td>1.064339</td>\n",
       "      <td>0.532170</td>\n",
       "      <td>53216.962164</td>\n",
       "    </tr>\n",
       "  </tbody>\n",
       "</table>\n",
       "</div>"
      ],
      "text/plain": [
       "            Adj. Close  Normalized Return  Allocation  Position value\n",
       "Date                                                                 \n",
       "2014-01-02      54.710           1.000000    0.500000    50000.000000\n",
       "2014-01-03      54.557           0.997203    0.498602    49860.171815\n",
       "2014-01-06      57.200           1.045513    0.522756    52275.635167\n",
       "2014-01-07      57.920           1.058673    0.529337    52933.650155\n",
       "2014-01-08      58.230           1.064339    0.532170    53216.962164"
      ]
     },
     "execution_count": 12,
     "metadata": {},
     "output_type": "execute_result"
    }
   ],
   "source": [
    "fb.head()"
   ]
  },
  {
   "cell_type": "markdown",
   "metadata": {},
   "source": [
    "So the insight that can be drawn is that, on 2nd January 2014 50000/- was allocated to facebook and then on the next day since the stock went down the money became approximately 49860/- and on the third day it again rose to approximately 52275/-. And so on, as the days change the value of the money keeps rising and falling accordingly."
   ]
  },
  {
   "cell_type": "markdown",
   "metadata": {},
   "source": [
    "Now let's look into the position values for all the stocks."
   ]
  },
  {
   "cell_type": "code",
   "execution_count": 13,
   "metadata": {},
   "outputs": [
    {
     "data": {
      "text/html": [
       "<div>\n",
       "<style scoped>\n",
       "    .dataframe tbody tr th:only-of-type {\n",
       "        vertical-align: middle;\n",
       "    }\n",
       "\n",
       "    .dataframe tbody tr th {\n",
       "        vertical-align: top;\n",
       "    }\n",
       "\n",
       "    .dataframe thead th {\n",
       "        text-align: right;\n",
       "    }\n",
       "</style>\n",
       "<table border=\"1\" class=\"dataframe\">\n",
       "  <thead>\n",
       "    <tr style=\"text-align: right;\">\n",
       "      <th></th>\n",
       "      <th>Position value</th>\n",
       "      <th>Position value</th>\n",
       "      <th>Position value</th>\n",
       "    </tr>\n",
       "    <tr>\n",
       "      <th>Date</th>\n",
       "      <th></th>\n",
       "      <th></th>\n",
       "      <th></th>\n",
       "    </tr>\n",
       "  </thead>\n",
       "  <tbody>\n",
       "    <tr>\n",
       "      <th>2014-01-02</th>\n",
       "      <td>50000.000000</td>\n",
       "      <td>30000.000000</td>\n",
       "      <td>20000.000000</td>\n",
       "    </tr>\n",
       "    <tr>\n",
       "      <th>2014-01-03</th>\n",
       "      <td>49860.171815</td>\n",
       "      <td>30666.666667</td>\n",
       "      <td>19560.681937</td>\n",
       "    </tr>\n",
       "    <tr>\n",
       "      <th>2014-01-06</th>\n",
       "      <td>52275.635167</td>\n",
       "      <td>29462.222222</td>\n",
       "      <td>19667.347640</td>\n",
       "    </tr>\n",
       "    <tr>\n",
       "      <th>2014-01-07</th>\n",
       "      <td>52933.650155</td>\n",
       "      <td>27315.555556</td>\n",
       "      <td>19526.603149</td>\n",
       "    </tr>\n",
       "    <tr>\n",
       "      <th>2014-01-08</th>\n",
       "      <td>53216.962164</td>\n",
       "      <td>26351.111111</td>\n",
       "      <td>19650.353443</td>\n",
       "    </tr>\n",
       "  </tbody>\n",
       "</table>\n",
       "</div>"
      ],
      "text/plain": [
       "            Position value  Position value  Position value\n",
       "Date                                                      \n",
       "2014-01-02    50000.000000    30000.000000    20000.000000\n",
       "2014-01-03    49860.171815    30666.666667    19560.681937\n",
       "2014-01-06    52275.635167    29462.222222    19667.347640\n",
       "2014-01-07    52933.650155    27315.555556    19526.603149\n",
       "2014-01-08    53216.962164    26351.111111    19650.353443"
      ]
     },
     "execution_count": 13,
     "metadata": {},
     "output_type": "execute_result"
    }
   ],
   "source": [
    "position_values = pd.concat([fb['Position value'], \n",
    "                twtr['Position value'],aapl['Position value']],axis=1)\n",
    "\n",
    "position_values.head()"
   ]
  },
  {
   "cell_type": "code",
   "execution_count": 14,
   "metadata": {},
   "outputs": [
    {
     "data": {
      "text/html": [
       "<div>\n",
       "<style scoped>\n",
       "    .dataframe tbody tr th:only-of-type {\n",
       "        vertical-align: middle;\n",
       "    }\n",
       "\n",
       "    .dataframe tbody tr th {\n",
       "        vertical-align: top;\n",
       "    }\n",
       "\n",
       "    .dataframe thead th {\n",
       "        text-align: right;\n",
       "    }\n",
       "</style>\n",
       "<table border=\"1\" class=\"dataframe\">\n",
       "  <thead>\n",
       "    <tr style=\"text-align: right;\">\n",
       "      <th></th>\n",
       "      <th>Facebook position values</th>\n",
       "      <th>Twitter position values</th>\n",
       "      <th>Apple position values</th>\n",
       "    </tr>\n",
       "    <tr>\n",
       "      <th>Date</th>\n",
       "      <th></th>\n",
       "      <th></th>\n",
       "      <th></th>\n",
       "    </tr>\n",
       "  </thead>\n",
       "  <tbody>\n",
       "    <tr>\n",
       "      <th>2014-01-02</th>\n",
       "      <td>50000.000000</td>\n",
       "      <td>30000.000000</td>\n",
       "      <td>20000.000000</td>\n",
       "    </tr>\n",
       "    <tr>\n",
       "      <th>2014-01-03</th>\n",
       "      <td>49860.171815</td>\n",
       "      <td>30666.666667</td>\n",
       "      <td>19560.681937</td>\n",
       "    </tr>\n",
       "    <tr>\n",
       "      <th>2014-01-06</th>\n",
       "      <td>52275.635167</td>\n",
       "      <td>29462.222222</td>\n",
       "      <td>19667.347640</td>\n",
       "    </tr>\n",
       "    <tr>\n",
       "      <th>2014-01-07</th>\n",
       "      <td>52933.650155</td>\n",
       "      <td>27315.555556</td>\n",
       "      <td>19526.603149</td>\n",
       "    </tr>\n",
       "    <tr>\n",
       "      <th>2014-01-08</th>\n",
       "      <td>53216.962164</td>\n",
       "      <td>26351.111111</td>\n",
       "      <td>19650.353443</td>\n",
       "    </tr>\n",
       "  </tbody>\n",
       "</table>\n",
       "</div>"
      ],
      "text/plain": [
       "            Facebook position values  Twitter position values  \\\n",
       "Date                                                            \n",
       "2014-01-02              50000.000000             30000.000000   \n",
       "2014-01-03              49860.171815             30666.666667   \n",
       "2014-01-06              52275.635167             29462.222222   \n",
       "2014-01-07              52933.650155             27315.555556   \n",
       "2014-01-08              53216.962164             26351.111111   \n",
       "\n",
       "            Apple position values  \n",
       "Date                               \n",
       "2014-01-02           20000.000000  \n",
       "2014-01-03           19560.681937  \n",
       "2014-01-06           19667.347640  \n",
       "2014-01-07           19526.603149  \n",
       "2014-01-08           19650.353443  "
      ]
     },
     "execution_count": 14,
     "metadata": {},
     "output_type": "execute_result"
    }
   ],
   "source": [
    "position_values.columns = ['Facebook position values','Twitter position values',\n",
    "                           'Apple position values']\n",
    "position_values.head()"
   ]
  },
  {
   "cell_type": "markdown",
   "metadata": {},
   "source": [
    "The total position can now be calculated by summing the values of all stocks position values."
   ]
  },
  {
   "cell_type": "code",
   "execution_count": 15,
   "metadata": {},
   "outputs": [
    {
     "data": {
      "text/html": [
       "<div>\n",
       "<style scoped>\n",
       "    .dataframe tbody tr th:only-of-type {\n",
       "        vertical-align: middle;\n",
       "    }\n",
       "\n",
       "    .dataframe tbody tr th {\n",
       "        vertical-align: top;\n",
       "    }\n",
       "\n",
       "    .dataframe thead th {\n",
       "        text-align: right;\n",
       "    }\n",
       "</style>\n",
       "<table border=\"1\" class=\"dataframe\">\n",
       "  <thead>\n",
       "    <tr style=\"text-align: right;\">\n",
       "      <th></th>\n",
       "      <th>Facebook position values</th>\n",
       "      <th>Twitter position values</th>\n",
       "      <th>Apple position values</th>\n",
       "      <th>Total position value</th>\n",
       "    </tr>\n",
       "    <tr>\n",
       "      <th>Date</th>\n",
       "      <th></th>\n",
       "      <th></th>\n",
       "      <th></th>\n",
       "      <th></th>\n",
       "    </tr>\n",
       "  </thead>\n",
       "  <tbody>\n",
       "    <tr>\n",
       "      <th>2014-01-02</th>\n",
       "      <td>50000.000000</td>\n",
       "      <td>30000.000000</td>\n",
       "      <td>20000.000000</td>\n",
       "      <td>100000.000000</td>\n",
       "    </tr>\n",
       "    <tr>\n",
       "      <th>2014-01-03</th>\n",
       "      <td>49860.171815</td>\n",
       "      <td>30666.666667</td>\n",
       "      <td>19560.681937</td>\n",
       "      <td>100087.520419</td>\n",
       "    </tr>\n",
       "    <tr>\n",
       "      <th>2014-01-06</th>\n",
       "      <td>52275.635167</td>\n",
       "      <td>29462.222222</td>\n",
       "      <td>19667.347640</td>\n",
       "      <td>101405.205029</td>\n",
       "    </tr>\n",
       "    <tr>\n",
       "      <th>2014-01-07</th>\n",
       "      <td>52933.650155</td>\n",
       "      <td>27315.555556</td>\n",
       "      <td>19526.603149</td>\n",
       "      <td>99775.808860</td>\n",
       "    </tr>\n",
       "    <tr>\n",
       "      <th>2014-01-08</th>\n",
       "      <td>53216.962164</td>\n",
       "      <td>26351.111111</td>\n",
       "      <td>19650.353443</td>\n",
       "      <td>99218.426718</td>\n",
       "    </tr>\n",
       "  </tbody>\n",
       "</table>\n",
       "</div>"
      ],
      "text/plain": [
       "            Facebook position values  Twitter position values  \\\n",
       "Date                                                            \n",
       "2014-01-02              50000.000000             30000.000000   \n",
       "2014-01-03              49860.171815             30666.666667   \n",
       "2014-01-06              52275.635167             29462.222222   \n",
       "2014-01-07              52933.650155             27315.555556   \n",
       "2014-01-08              53216.962164             26351.111111   \n",
       "\n",
       "            Apple position values  Total position value  \n",
       "Date                                                     \n",
       "2014-01-02           20000.000000         100000.000000  \n",
       "2014-01-03           19560.681937         100087.520419  \n",
       "2014-01-06           19667.347640         101405.205029  \n",
       "2014-01-07           19526.603149          99775.808860  \n",
       "2014-01-08           19650.353443          99218.426718  "
      ]
     },
     "execution_count": 15,
     "metadata": {},
     "output_type": "execute_result"
    }
   ],
   "source": [
    "position_values['Total position value'] = position_values.sum(axis=1)\n",
    "position_values.head()"
   ]
  },
  {
   "cell_type": "code",
   "execution_count": 16,
   "metadata": {},
   "outputs": [
    {
     "data": {
      "text/html": [
       "<div>\n",
       "<style scoped>\n",
       "    .dataframe tbody tr th:only-of-type {\n",
       "        vertical-align: middle;\n",
       "    }\n",
       "\n",
       "    .dataframe tbody tr th {\n",
       "        vertical-align: top;\n",
       "    }\n",
       "\n",
       "    .dataframe thead th {\n",
       "        text-align: right;\n",
       "    }\n",
       "</style>\n",
       "<table border=\"1\" class=\"dataframe\">\n",
       "  <thead>\n",
       "    <tr style=\"text-align: right;\">\n",
       "      <th></th>\n",
       "      <th>Facebook position values</th>\n",
       "      <th>Twitter position values</th>\n",
       "      <th>Apple position values</th>\n",
       "      <th>Total position value</th>\n",
       "    </tr>\n",
       "    <tr>\n",
       "      <th>Date</th>\n",
       "      <th></th>\n",
       "      <th></th>\n",
       "      <th></th>\n",
       "      <th></th>\n",
       "    </tr>\n",
       "  </thead>\n",
       "  <tbody>\n",
       "    <tr>\n",
       "      <th>2015-12-24</th>\n",
       "      <td>95978.797295</td>\n",
       "      <td>10208.888889</td>\n",
       "      <td>28391.779702</td>\n",
       "      <td>134579.465886</td>\n",
       "    </tr>\n",
       "    <tr>\n",
       "      <th>2015-12-28</th>\n",
       "      <td>96810.455127</td>\n",
       "      <td>10013.333333</td>\n",
       "      <td>28073.774949</td>\n",
       "      <td>134897.563410</td>\n",
       "    </tr>\n",
       "    <tr>\n",
       "      <th>2015-12-29</th>\n",
       "      <td>98025.955036</td>\n",
       "      <td>9986.666667</td>\n",
       "      <td>28578.377532</td>\n",
       "      <td>136590.999234</td>\n",
       "    </tr>\n",
       "    <tr>\n",
       "      <th>2015-12-30</th>\n",
       "      <td>97075.488942</td>\n",
       "      <td>9880.000000</td>\n",
       "      <td>28205.181872</td>\n",
       "      <td>135160.670814</td>\n",
       "    </tr>\n",
       "    <tr>\n",
       "      <th>2015-12-31</th>\n",
       "      <td>95649.789801</td>\n",
       "      <td>10284.444444</td>\n",
       "      <td>27663.785351</td>\n",
       "      <td>133598.019596</td>\n",
       "    </tr>\n",
       "  </tbody>\n",
       "</table>\n",
       "</div>"
      ],
      "text/plain": [
       "            Facebook position values  Twitter position values  \\\n",
       "Date                                                            \n",
       "2015-12-24              95978.797295             10208.888889   \n",
       "2015-12-28              96810.455127             10013.333333   \n",
       "2015-12-29              98025.955036              9986.666667   \n",
       "2015-12-30              97075.488942              9880.000000   \n",
       "2015-12-31              95649.789801             10284.444444   \n",
       "\n",
       "            Apple position values  Total position value  \n",
       "Date                                                     \n",
       "2015-12-24           28391.779702         134579.465886  \n",
       "2015-12-28           28073.774949         134897.563410  \n",
       "2015-12-29           28578.377532         136590.999234  \n",
       "2015-12-30           28205.181872         135160.670814  \n",
       "2015-12-31           27663.785351         133598.019596  "
      ]
     },
     "execution_count": 16,
     "metadata": {},
     "output_type": "execute_result"
    }
   ],
   "source": [
    "position_values.tail()"
   ]
  },
  {
   "cell_type": "markdown",
   "metadata": {},
   "source": [
    "So as seen from the values above, investing in facebook and apple would prove to be beneficial as the investment gives more return. But investing in twitter is a loss."
   ]
  },
  {
   "cell_type": "markdown",
   "metadata": {},
   "source": [
    "## Plotting\n",
    "So keeping in mind that the initial investment of 1 lakh rupees, by plotting we can visualize if the money has increased or decreased by the end of the term and its trend."
   ]
  },
  {
   "cell_type": "code",
   "execution_count": 17,
   "metadata": {},
   "outputs": [
    {
     "data": {
      "text/plain": [
       "Text(0.5, 1.0, 'Total portfolio value')"
      ]
     },
     "execution_count": 17,
     "metadata": {},
     "output_type": "execute_result"
    },
    {
     "data": {
      "image/png": "[encoded data removed]",
      "text/plain": [
       "<Figure size 720x576 with 1 Axes>"
      ]
     },
     "metadata": {
      "needs_background": "light"
     },
     "output_type": "display_data"
    }
   ],
   "source": [
    "position_values['Total position value'].plot(figsize=(10,8))\n",
    "plt.title('Total portfolio value')"
   ]
  },
  {
   "cell_type": "markdown",
   "metadata": {},
   "source": [
    "So by the end of the term, the value of money is at approximately 13 lakhs."
   ]
  },
  {
   "cell_type": "markdown",
   "metadata": {},
   "source": [
    "The stock position values can be plotted individually too to understand how the stocks grew."
   ]
  },
  {
   "cell_type": "code",
   "execution_count": 18,
   "metadata": {},
   "outputs": [
    {
     "data": {
      "text/plain": [
       "<AxesSubplot:xlabel='Date'>"
      ]
     },
     "execution_count": 18,
     "metadata": {},
     "output_type": "execute_result"
    },
    {
     "data": {
      "image/png": "[encoded data removed]",
      "text/plain": [
       "<Figure size 720x576 with 1 Axes>"
      ]
     },
     "metadata": {
      "needs_background": "light"
     },
     "output_type": "display_data"
    }
   ],
   "source": [
    "position_values.drop('Total position value',axis=1).plot(figsize=(10,8))"
   ]
  },
  {
   "cell_type": "markdown",
   "metadata": {},
   "source": [
    "So the stock of facebook has grown in an upward trend whereas the other two stocks didnt have much variance. Inafct twitter had a downward trend."
   ]
  },
  {
   "cell_type": "markdown",
   "metadata": {},
   "source": [
    "## Portfolio statistics\n",
    "\n",
    "Various statistics like daily returns, average daily retirns and standard deviation can be calculated. These statistics can help determine the sharpe ratio too."
   ]
  },
  {
   "cell_type": "code",
   "execution_count": 19,
   "metadata": {},
   "outputs": [
    {
     "data": {
      "text/html": [
       "<div>\n",
       "<style scoped>\n",
       "    .dataframe tbody tr th:only-of-type {\n",
       "        vertical-align: middle;\n",
       "    }\n",
       "\n",
       "    .dataframe tbody tr th {\n",
       "        vertical-align: top;\n",
       "    }\n",
       "\n",
       "    .dataframe thead th {\n",
       "        text-align: right;\n",
       "    }\n",
       "</style>\n",
       "<table border=\"1\" class=\"dataframe\">\n",
       "  <thead>\n",
       "    <tr style=\"text-align: right;\">\n",
       "      <th></th>\n",
       "      <th>Facebook position values</th>\n",
       "      <th>Twitter position values</th>\n",
       "      <th>Apple position values</th>\n",
       "      <th>Total position value</th>\n",
       "    </tr>\n",
       "    <tr>\n",
       "      <th>Date</th>\n",
       "      <th></th>\n",
       "      <th></th>\n",
       "      <th></th>\n",
       "      <th></th>\n",
       "    </tr>\n",
       "  </thead>\n",
       "  <tbody>\n",
       "    <tr>\n",
       "      <th>2014-01-02</th>\n",
       "      <td>50000.000000</td>\n",
       "      <td>30000.000000</td>\n",
       "      <td>20000.000000</td>\n",
       "      <td>100000.000000</td>\n",
       "    </tr>\n",
       "    <tr>\n",
       "      <th>2014-01-03</th>\n",
       "      <td>49860.171815</td>\n",
       "      <td>30666.666667</td>\n",
       "      <td>19560.681937</td>\n",
       "      <td>100087.520419</td>\n",
       "    </tr>\n",
       "    <tr>\n",
       "      <th>2014-01-06</th>\n",
       "      <td>52275.635167</td>\n",
       "      <td>29462.222222</td>\n",
       "      <td>19667.347640</td>\n",
       "      <td>101405.205029</td>\n",
       "    </tr>\n",
       "    <tr>\n",
       "      <th>2014-01-07</th>\n",
       "      <td>52933.650155</td>\n",
       "      <td>27315.555556</td>\n",
       "      <td>19526.603149</td>\n",
       "      <td>99775.808860</td>\n",
       "    </tr>\n",
       "    <tr>\n",
       "      <th>2014-01-08</th>\n",
       "      <td>53216.962164</td>\n",
       "      <td>26351.111111</td>\n",
       "      <td>19650.353443</td>\n",
       "      <td>99218.426718</td>\n",
       "    </tr>\n",
       "  </tbody>\n",
       "</table>\n",
       "</div>"
      ],
      "text/plain": [
       "            Facebook position values  Twitter position values  \\\n",
       "Date                                                            \n",
       "2014-01-02              50000.000000             30000.000000   \n",
       "2014-01-03              49860.171815             30666.666667   \n",
       "2014-01-06              52275.635167             29462.222222   \n",
       "2014-01-07              52933.650155             27315.555556   \n",
       "2014-01-08              53216.962164             26351.111111   \n",
       "\n",
       "            Apple position values  Total position value  \n",
       "Date                                                     \n",
       "2014-01-02           20000.000000         100000.000000  \n",
       "2014-01-03           19560.681937         100087.520419  \n",
       "2014-01-06           19667.347640         101405.205029  \n",
       "2014-01-07           19526.603149          99775.808860  \n",
       "2014-01-08           19650.353443          99218.426718  "
      ]
     },
     "execution_count": 19,
     "metadata": {},
     "output_type": "execute_result"
    }
   ],
   "source": [
    "position_values.head()"
   ]
  },
  {
   "cell_type": "markdown",
   "metadata": {},
   "source": [
    "To calculate the daily return the pandas function 'pct_change' will be used. It calculates the percentage change between the current and a prior element. The periods to shift is 1."
   ]
  },
  {
   "cell_type": "code",
   "execution_count": 20,
   "metadata": {},
   "outputs": [
    {
     "data": {
      "text/html": [
       "<div>\n",
       "<style scoped>\n",
       "    .dataframe tbody tr th:only-of-type {\n",
       "        vertical-align: middle;\n",
       "    }\n",
       "\n",
       "    .dataframe tbody tr th {\n",
       "        vertical-align: top;\n",
       "    }\n",
       "\n",
       "    .dataframe thead th {\n",
       "        text-align: right;\n",
       "    }\n",
       "</style>\n",
       "<table border=\"1\" class=\"dataframe\">\n",
       "  <thead>\n",
       "    <tr style=\"text-align: right;\">\n",
       "      <th></th>\n",
       "      <th>Facebook position values</th>\n",
       "      <th>Twitter position values</th>\n",
       "      <th>Apple position values</th>\n",
       "      <th>Total position value</th>\n",
       "      <th>Daily return</th>\n",
       "    </tr>\n",
       "    <tr>\n",
       "      <th>Date</th>\n",
       "      <th></th>\n",
       "      <th></th>\n",
       "      <th></th>\n",
       "      <th></th>\n",
       "      <th></th>\n",
       "    </tr>\n",
       "  </thead>\n",
       "  <tbody>\n",
       "    <tr>\n",
       "      <th>2014-01-02</th>\n",
       "      <td>50000.000000</td>\n",
       "      <td>30000.000000</td>\n",
       "      <td>20000.000000</td>\n",
       "      <td>100000.000000</td>\n",
       "      <td>NaN</td>\n",
       "    </tr>\n",
       "    <tr>\n",
       "      <th>2014-01-03</th>\n",
       "      <td>49860.171815</td>\n",
       "      <td>30666.666667</td>\n",
       "      <td>19560.681937</td>\n",
       "      <td>100087.520419</td>\n",
       "      <td>0.000875</td>\n",
       "    </tr>\n",
       "    <tr>\n",
       "      <th>2014-01-06</th>\n",
       "      <td>52275.635167</td>\n",
       "      <td>29462.222222</td>\n",
       "      <td>19667.347640</td>\n",
       "      <td>101405.205029</td>\n",
       "      <td>0.013165</td>\n",
       "    </tr>\n",
       "    <tr>\n",
       "      <th>2014-01-07</th>\n",
       "      <td>52933.650155</td>\n",
       "      <td>27315.555556</td>\n",
       "      <td>19526.603149</td>\n",
       "      <td>99775.808860</td>\n",
       "      <td>-0.016068</td>\n",
       "    </tr>\n",
       "    <tr>\n",
       "      <th>2014-01-08</th>\n",
       "      <td>53216.962164</td>\n",
       "      <td>26351.111111</td>\n",
       "      <td>19650.353443</td>\n",
       "      <td>99218.426718</td>\n",
       "      <td>-0.005586</td>\n",
       "    </tr>\n",
       "  </tbody>\n",
       "</table>\n",
       "</div>"
      ],
      "text/plain": [
       "            Facebook position values  Twitter position values  \\\n",
       "Date                                                            \n",
       "2014-01-02              50000.000000             30000.000000   \n",
       "2014-01-03              49860.171815             30666.666667   \n",
       "2014-01-06              52275.635167             29462.222222   \n",
       "2014-01-07              52933.650155             27315.555556   \n",
       "2014-01-08              53216.962164             26351.111111   \n",
       "\n",
       "            Apple position values  Total position value  Daily return  \n",
       "Date                                                                   \n",
       "2014-01-02           20000.000000         100000.000000           NaN  \n",
       "2014-01-03           19560.681937         100087.520419      0.000875  \n",
       "2014-01-06           19667.347640         101405.205029      0.013165  \n",
       "2014-01-07           19526.603149          99775.808860     -0.016068  \n",
       "2014-01-08           19650.353443          99218.426718     -0.005586  "
      ]
     },
     "execution_count": 20,
     "metadata": {},
     "output_type": "execute_result"
    }
   ],
   "source": [
    "position_values['Daily return'] = position_values['Total position value'].pct_change(1)\n",
    "position_values.head()"
   ]
  },
  {
   "cell_type": "markdown",
   "metadata": {},
   "source": [
    "The average daily return can be found by calling the mean() function on the daily returns."
   ]
  },
  {
   "cell_type": "code",
   "execution_count": 21,
   "metadata": {},
   "outputs": [
    {
     "data": {
      "text/plain": [
       "0.0007122766289206966"
      ]
     },
     "execution_count": 21,
     "metadata": {},
     "output_type": "execute_result"
    }
   ],
   "source": [
    "position_values['Daily return'].mean()"
   ]
  },
  {
   "cell_type": "markdown",
   "metadata": {},
   "source": [
    "The standard deviation can be caluclated by calling the 'std()' function on daily returns."
   ]
  },
  {
   "cell_type": "code",
   "execution_count": 22,
   "metadata": {},
   "outputs": [
    {
     "data": {
      "text/plain": [
       "0.01651000095519752"
      ]
     },
     "execution_count": 22,
     "metadata": {},
     "output_type": "execute_result"
    }
   ],
   "source": [
    "position_values['Daily return'].std()"
   ]
  },
  {
   "cell_type": "markdown",
   "metadata": {},
   "source": [
    "## Sharpe ratio\n",
    "The sharpe ratio is the the average return received wrt the risk free rate per unit of volatility. Volatility is the fluctuations in the price of a portfolio. The sharpe ratio helps determine the return on an investment when compared to its risk.\n",
    "\n",
    "The greater the value of the Sharpe ratio, the more attractive the risk-adjusted return.\n",
    "\n",
    "The risk free rate per unit is considered to be 0 here."
   ]
  },
  {
   "cell_type": "code",
   "execution_count": 23,
   "metadata": {},
   "outputs": [
    {
     "data": {
      "text/plain": [
       "0.04314213129687704"
      ]
     },
     "execution_count": 23,
     "metadata": {},
     "output_type": "execute_result"
    }
   ],
   "source": [
    "sharpe_r = position_values['Daily return'].mean()/position_values['Daily return'].std()\n",
    "sharpe_r"
   ]
  },
  {
   "cell_type": "markdown",
   "metadata": {},
   "source": [
    "The annual sharpe ratio can be calculated by multiplying 'k' value with the sharpe ratio. The 'k' value is the root of the number of business days. There are 252 days where trade business is carried out and therefore k=252."
   ]
  },
  {
   "cell_type": "code",
   "execution_count": 24,
   "metadata": {},
   "outputs": [
    {
     "data": {
      "text/plain": [
       "0.6848601026449987"
      ]
     },
     "execution_count": 24,
     "metadata": {},
     "output_type": "execute_result"
    }
   ],
   "source": [
    "annual_sharpe_r = sharpe_r * (252**0.5)\n",
    "annual_sharpe_r"
   ]
  },
  {
   "cell_type": "markdown",
   "metadata": {},
   "source": [
    "A sharpe ration greater than 1 is generally accepted to be a good value. A ratio higher than 2 is great and higher than 3 is excellent. "
   ]
  },
  {
   "cell_type": "code",
   "execution_count": null,
   "metadata": {},
   "outputs": [],
   "source": []
  }
 ],
 "metadata": {
  "kernelspec": {
   "display_name": "Python 3",
   "language": "python",
   "name": "python3"
  },
  "language_info": {
   "codemirror_mode": {
    "name": "ipython",
    "version": 3
   },
   "file_extension": ".py",
   "mimetype": "text/x-python",
   "name": "python",
   "nbconvert_exporter": "python",
   "pygments_lexer": "ipython3",
   "version": "3.7.7"
  }
 },
 "nbformat": 4,
 "nbformat_minor": 4
}
