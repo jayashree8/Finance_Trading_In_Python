{
 "cells": [
  {
   "cell_type": "markdown",
   "metadata": {},
   "source": [
    "# Portfolio optimization"
   ]
  },
  {
   "cell_type": "markdown",
   "metadata": {},
   "source": [
    "### Import packages\n",
    "The basic packages like pandas, numpy and matplotlib are imported. The quanld package is imported for obtaining data."
   ]
  },
  {
   "cell_type": "code",
   "execution_count": 1,
   "metadata": {},
   "outputs": [],
   "source": [
    "import numpy as np\n",
    "import pandas as pd\n",
    "import matplotlib.pyplot as plt\n",
    "import quandl\n",
    "%matplotlib inline"
   ]
  },
  {
   "cell_type": "markdown",
   "metadata": {},
   "source": [
    "### Data\n",
    "The start and end date is decided during which the data will be extracted and worked on."
   ]
  },
  {
   "cell_type": "code",
   "execution_count": 2,
   "metadata": {},
   "outputs": [],
   "source": [
    "start = pd.to_datetime('2014-01-01')\n",
    "end = pd.to_datetime('2016-01-01')"
   ]
  },
  {
   "cell_type": "markdown",
   "metadata": {},
   "source": [
    "Then the data of 3 companies: facebook, apple and twitter are extracted. The 11th column which is adjusted close is obtained since the analysis will be done on it. Then the 3 stocks are combined into a single dataframe."
   ]
  },
  {
   "cell_type": "code",
   "execution_count": 3,
   "metadata": {},
   "outputs": [
    {
     "data": {
      "text/html": [
       "<div>\n",
       "<style scoped>\n",
       "    .dataframe tbody tr th:only-of-type {\n",
       "        vertical-align: middle;\n",
       "    }\n",
       "\n",
       "    .dataframe tbody tr th {\n",
       "        vertical-align: top;\n",
       "    }\n",
       "\n",
       "    .dataframe thead th {\n",
       "        text-align: right;\n",
       "    }\n",
       "</style>\n",
       "<table border=\"1\" class=\"dataframe\">\n",
       "  <thead>\n",
       "    <tr style=\"text-align: right;\">\n",
       "      <th></th>\n",
       "      <th>Facebook</th>\n",
       "      <th>Twitter</th>\n",
       "      <th>Apple</th>\n",
       "    </tr>\n",
       "    <tr>\n",
       "      <th>Date</th>\n",
       "      <th></th>\n",
       "      <th></th>\n",
       "      <th></th>\n",
       "    </tr>\n",
       "  </thead>\n",
       "  <tbody>\n",
       "    <tr>\n",
       "      <th>2014-01-02</th>\n",
       "      <td>54.710</td>\n",
       "      <td>67.50</td>\n",
       "      <td>73.523423</td>\n",
       "    </tr>\n",
       "    <tr>\n",
       "      <th>2014-01-03</th>\n",
       "      <td>54.557</td>\n",
       "      <td>69.00</td>\n",
       "      <td>71.908415</td>\n",
       "    </tr>\n",
       "    <tr>\n",
       "      <th>2014-01-06</th>\n",
       "      <td>57.200</td>\n",
       "      <td>66.29</td>\n",
       "      <td>72.300536</td>\n",
       "    </tr>\n",
       "    <tr>\n",
       "      <th>2014-01-07</th>\n",
       "      <td>57.920</td>\n",
       "      <td>61.46</td>\n",
       "      <td>71.783135</td>\n",
       "    </tr>\n",
       "    <tr>\n",
       "      <th>2014-01-08</th>\n",
       "      <td>58.230</td>\n",
       "      <td>59.29</td>\n",
       "      <td>72.238063</td>\n",
       "    </tr>\n",
       "  </tbody>\n",
       "</table>\n",
       "</div>"
      ],
      "text/plain": [
       "            Facebook  Twitter      Apple\n",
       "Date                                    \n",
       "2014-01-02    54.710    67.50  73.523423\n",
       "2014-01-03    54.557    69.00  71.908415\n",
       "2014-01-06    57.200    66.29  72.300536\n",
       "2014-01-07    57.920    61.46  71.783135\n",
       "2014-01-08    58.230    59.29  72.238063"
      ]
     },
     "execution_count": 3,
     "metadata": {},
     "output_type": "execute_result"
    }
   ],
   "source": [
    "fb = quandl.get('WIKI/FB.11',start_date=start, end_date=end)\n",
    "twtr = quandl.get('WIKI/TWTR.11',start_date=start, end_date=end)\n",
    "aapl = quandl.get('WIKI/AAPL.11',start_date=start, end_date=end)\n",
    "\n",
    "df = pd.concat([fb,twtr,aapl],axis=1)\n",
    "df.columns = ['Facebook','Twitter','Apple']\n",
    "\n",
    "df.head()"
   ]
  },
  {
   "cell_type": "markdown",
   "metadata": {},
   "source": [
    "### Statistics \n",
    "1) mean daily return\n",
    "\n",
    "Using the percent change function, the mean daily return of the stocks can be found."
   ]
  },
  {
   "cell_type": "code",
   "execution_count": 4,
   "metadata": {},
   "outputs": [
    {
     "data": {
      "text/plain": [
       "Facebook    0.001480\n",
       "Twitter    -0.001520\n",
       "Apple       0.000762\n",
       "dtype: float64"
      ]
     },
     "execution_count": 4,
     "metadata": {},
     "output_type": "execute_result"
    }
   ],
   "source": [
    "df.pct_change(1).mean()"
   ]
  },
  {
   "cell_type": "markdown",
   "metadata": {},
   "source": [
    "2) correlation between stocks\n",
    "\n",
    "Uisng the mean daily return, the correlation between the stocks can be determined."
   ]
  },
  {
   "cell_type": "code",
   "execution_count": 5,
   "metadata": {},
   "outputs": [
    {
     "data": {
      "text/html": [
       "<div>\n",
       "<style scoped>\n",
       "    .dataframe tbody tr th:only-of-type {\n",
       "        vertical-align: middle;\n",
       "    }\n",
       "\n",
       "    .dataframe tbody tr th {\n",
       "        vertical-align: top;\n",
       "    }\n",
       "\n",
       "    .dataframe thead th {\n",
       "        text-align: right;\n",
       "    }\n",
       "</style>\n",
       "<table border=\"1\" class=\"dataframe\">\n",
       "  <thead>\n",
       "    <tr style=\"text-align: right;\">\n",
       "      <th></th>\n",
       "      <th>Facebook</th>\n",
       "      <th>Twitter</th>\n",
       "      <th>Apple</th>\n",
       "    </tr>\n",
       "  </thead>\n",
       "  <tbody>\n",
       "    <tr>\n",
       "      <th>Facebook</th>\n",
       "      <td>1.000000</td>\n",
       "      <td>0.321729</td>\n",
       "      <td>0.370009</td>\n",
       "    </tr>\n",
       "    <tr>\n",
       "      <th>Twitter</th>\n",
       "      <td>0.321729</td>\n",
       "      <td>1.000000</td>\n",
       "      <td>0.155169</td>\n",
       "    </tr>\n",
       "    <tr>\n",
       "      <th>Apple</th>\n",
       "      <td>0.370009</td>\n",
       "      <td>0.155169</td>\n",
       "      <td>1.000000</td>\n",
       "    </tr>\n",
       "  </tbody>\n",
       "</table>\n",
       "</div>"
      ],
      "text/plain": [
       "          Facebook   Twitter     Apple\n",
       "Facebook  1.000000  0.321729  0.370009\n",
       "Twitter   0.321729  1.000000  0.155169\n",
       "Apple     0.370009  0.155169  1.000000"
      ]
     },
     "execution_count": 5,
     "metadata": {},
     "output_type": "execute_result"
    }
   ],
   "source": [
    "df.pct_change(1).corr()"
   ]
  },
  {
   "cell_type": "markdown",
   "metadata": {},
   "source": [
    "3) arithmetic return\n",
    "\n",
    "The percentage change method goves the arithmetic return."
   ]
  },
  {
   "cell_type": "code",
   "execution_count": 6,
   "metadata": {},
   "outputs": [
    {
     "data": {
      "text/html": [
       "<div>\n",
       "<style scoped>\n",
       "    .dataframe tbody tr th:only-of-type {\n",
       "        vertical-align: middle;\n",
       "    }\n",
       "\n",
       "    .dataframe tbody tr th {\n",
       "        vertical-align: top;\n",
       "    }\n",
       "\n",
       "    .dataframe thead th {\n",
       "        text-align: right;\n",
       "    }\n",
       "</style>\n",
       "<table border=\"1\" class=\"dataframe\">\n",
       "  <thead>\n",
       "    <tr style=\"text-align: right;\">\n",
       "      <th></th>\n",
       "      <th>Facebook</th>\n",
       "      <th>Twitter</th>\n",
       "      <th>Apple</th>\n",
       "    </tr>\n",
       "    <tr>\n",
       "      <th>Date</th>\n",
       "      <th></th>\n",
       "      <th></th>\n",
       "      <th></th>\n",
       "    </tr>\n",
       "  </thead>\n",
       "  <tbody>\n",
       "    <tr>\n",
       "      <th>2014-01-02</th>\n",
       "      <td>NaN</td>\n",
       "      <td>NaN</td>\n",
       "      <td>NaN</td>\n",
       "    </tr>\n",
       "    <tr>\n",
       "      <th>2014-01-03</th>\n",
       "      <td>-0.002797</td>\n",
       "      <td>0.022222</td>\n",
       "      <td>-0.021966</td>\n",
       "    </tr>\n",
       "    <tr>\n",
       "      <th>2014-01-06</th>\n",
       "      <td>0.048445</td>\n",
       "      <td>-0.039275</td>\n",
       "      <td>0.005453</td>\n",
       "    </tr>\n",
       "    <tr>\n",
       "      <th>2014-01-07</th>\n",
       "      <td>0.012587</td>\n",
       "      <td>-0.072862</td>\n",
       "      <td>-0.007156</td>\n",
       "    </tr>\n",
       "    <tr>\n",
       "      <th>2014-01-08</th>\n",
       "      <td>0.005352</td>\n",
       "      <td>-0.035308</td>\n",
       "      <td>0.006338</td>\n",
       "    </tr>\n",
       "  </tbody>\n",
       "</table>\n",
       "</div>"
      ],
      "text/plain": [
       "            Facebook   Twitter     Apple\n",
       "Date                                    \n",
       "2014-01-02       NaN       NaN       NaN\n",
       "2014-01-03 -0.002797  0.022222 -0.021966\n",
       "2014-01-06  0.048445 -0.039275  0.005453\n",
       "2014-01-07  0.012587 -0.072862 -0.007156\n",
       "2014-01-08  0.005352 -0.035308  0.006338"
      ]
     },
     "execution_count": 6,
     "metadata": {},
     "output_type": "execute_result"
    }
   ],
   "source": [
    "arith_returns = df.pct_change(1)\n",
    "arith_returns.head()"
   ]
  },
  {
   "cell_type": "markdown",
   "metadata": {},
   "source": [
    "4) logarithmic return\n",
    "\n",
    "The log function gives the logarithmic return."
   ]
  },
  {
   "cell_type": "code",
   "execution_count": 7,
   "metadata": {},
   "outputs": [
    {
     "data": {
      "text/html": [
       "<div>\n",
       "<style scoped>\n",
       "    .dataframe tbody tr th:only-of-type {\n",
       "        vertical-align: middle;\n",
       "    }\n",
       "\n",
       "    .dataframe tbody tr th {\n",
       "        vertical-align: top;\n",
       "    }\n",
       "\n",
       "    .dataframe thead th {\n",
       "        text-align: right;\n",
       "    }\n",
       "</style>\n",
       "<table border=\"1\" class=\"dataframe\">\n",
       "  <thead>\n",
       "    <tr style=\"text-align: right;\">\n",
       "      <th></th>\n",
       "      <th>Facebook</th>\n",
       "      <th>Twitter</th>\n",
       "      <th>Apple</th>\n",
       "    </tr>\n",
       "    <tr>\n",
       "      <th>Date</th>\n",
       "      <th></th>\n",
       "      <th></th>\n",
       "      <th></th>\n",
       "    </tr>\n",
       "  </thead>\n",
       "  <tbody>\n",
       "    <tr>\n",
       "      <th>2014-01-02</th>\n",
       "      <td>NaN</td>\n",
       "      <td>NaN</td>\n",
       "      <td>NaN</td>\n",
       "    </tr>\n",
       "    <tr>\n",
       "      <th>2014-01-03</th>\n",
       "      <td>-0.002800</td>\n",
       "      <td>0.021979</td>\n",
       "      <td>-0.022211</td>\n",
       "    </tr>\n",
       "    <tr>\n",
       "      <th>2014-01-06</th>\n",
       "      <td>0.047308</td>\n",
       "      <td>-0.040067</td>\n",
       "      <td>0.005438</td>\n",
       "    </tr>\n",
       "    <tr>\n",
       "      <th>2014-01-07</th>\n",
       "      <td>0.012509</td>\n",
       "      <td>-0.075652</td>\n",
       "      <td>-0.007182</td>\n",
       "    </tr>\n",
       "    <tr>\n",
       "      <th>2014-01-08</th>\n",
       "      <td>0.005338</td>\n",
       "      <td>-0.035946</td>\n",
       "      <td>0.006318</td>\n",
       "    </tr>\n",
       "  </tbody>\n",
       "</table>\n",
       "</div>"
      ],
      "text/plain": [
       "            Facebook   Twitter     Apple\n",
       "Date                                    \n",
       "2014-01-02       NaN       NaN       NaN\n",
       "2014-01-03 -0.002800  0.021979 -0.022211\n",
       "2014-01-06  0.047308 -0.040067  0.005438\n",
       "2014-01-07  0.012509 -0.075652 -0.007182\n",
       "2014-01-08  0.005338 -0.035946  0.006318"
      ]
     },
     "execution_count": 7,
     "metadata": {},
     "output_type": "execute_result"
    }
   ],
   "source": [
    "log_returns = np.log(df/df.shift(1))\n",
    "log_returns.head()"
   ]
  },
  {
   "cell_type": "markdown",
   "metadata": {},
   "source": [
    "5) covariance\n",
    "\n",
    "The covariance function gives the covariance."
   ]
  },
  {
   "cell_type": "code",
   "execution_count": 8,
   "metadata": {},
   "outputs": [
    {
     "data": {
      "text/html": [
       "<div>\n",
       "<style scoped>\n",
       "    .dataframe tbody tr th:only-of-type {\n",
       "        vertical-align: middle;\n",
       "    }\n",
       "\n",
       "    .dataframe tbody tr th {\n",
       "        vertical-align: top;\n",
       "    }\n",
       "\n",
       "    .dataframe thead th {\n",
       "        text-align: right;\n",
       "    }\n",
       "</style>\n",
       "<table border=\"1\" class=\"dataframe\">\n",
       "  <thead>\n",
       "    <tr style=\"text-align: right;\">\n",
       "      <th></th>\n",
       "      <th>Facebook</th>\n",
       "      <th>Twitter</th>\n",
       "      <th>Apple</th>\n",
       "    </tr>\n",
       "  </thead>\n",
       "  <tbody>\n",
       "    <tr>\n",
       "      <th>Facebook</th>\n",
       "      <td>0.000379</td>\n",
       "      <td>0.000220</td>\n",
       "      <td>0.000111</td>\n",
       "    </tr>\n",
       "    <tr>\n",
       "      <th>Twitter</th>\n",
       "      <td>0.000220</td>\n",
       "      <td>0.001235</td>\n",
       "      <td>0.000083</td>\n",
       "    </tr>\n",
       "    <tr>\n",
       "      <th>Apple</th>\n",
       "      <td>0.000111</td>\n",
       "      <td>0.000083</td>\n",
       "      <td>0.000235</td>\n",
       "    </tr>\n",
       "  </tbody>\n",
       "</table>\n",
       "</div>"
      ],
      "text/plain": [
       "          Facebook   Twitter     Apple\n",
       "Facebook  0.000379  0.000220  0.000111\n",
       "Twitter   0.000220  0.001235  0.000083\n",
       "Apple     0.000111  0.000083  0.000235"
      ]
     },
     "execution_count": 8,
     "metadata": {},
     "output_type": "execute_result"
    }
   ],
   "source": [
    "log_returns.cov()"
   ]
  },
  {
   "cell_type": "markdown",
   "metadata": {},
   "source": [
    "## Optimization method - Randomization"
   ]
  },
  {
   "cell_type": "markdown",
   "metadata": {},
   "source": [
    "### Allocation of random weights to the stocks\n",
    "\n",
    "The weights are randomly allocated to the stocks and made sure that they all add up to 1. To make sure they add up to 1, the weights are rebalanced by dividing it by the sum of weights."
   ]
  },
  {
   "cell_type": "code",
   "execution_count": 9,
   "metadata": {},
   "outputs": [
    {
     "name": "stdout",
     "output_type": "stream",
     "text": [
      "The stocks are:  Index(['Facebook', 'Twitter', 'Apple'], dtype='object')\n",
      "Random weights:  [0.53580931 0.12809422 0.33609646]\n"
     ]
    }
   ],
   "source": [
    "print('The stocks are: ',df.columns)\n",
    "np.random.seed(200)\n",
    "weights = np.array(np.random.random(3))\n",
    "weights = weights/np.sum(weights)\n",
    "print('Random weights: ',weights)"
   ]
  },
  {
   "cell_type": "markdown",
   "metadata": {},
   "source": [
    "### Finding expected return\n",
    "The expected return is found in terms of log. The returns are multiplied with the wieghts and then multiplied with the number of working days which is 252,"
   ]
  },
  {
   "cell_type": "code",
   "execution_count": 10,
   "metadata": {},
   "outputs": [
    {
     "data": {
      "text/plain": [
       "0.16004629405548906"
      ]
     },
     "execution_count": 10,
     "metadata": {},
     "output_type": "execute_result"
    }
   ],
   "source": [
    "expected_return = np.sum((log_returns.mean()* weights) * 252)\n",
    "expected_return"
   ]
  },
  {
   "cell_type": "markdown",
   "metadata": {},
   "source": [
    "### Finding expected variance\n",
    "Expected variance indicates the volatility. The covraince for 252 days is multiplied with the weights and then the dot product is taken with the weights. Then finally the square root is taken."
   ]
  },
  {
   "cell_type": "code",
   "execution_count": 11,
   "metadata": {},
   "outputs": [
    {
     "data": {
      "text/plain": [
       "0.24233721586475374"
      ]
     },
     "execution_count": 11,
     "metadata": {},
     "output_type": "execute_result"
    }
   ],
   "source": [
    "expected_vol = np.sqrt(np.dot(weights.T,np.dot(log_returns.cov()*252,weights)))\n",
    "expected_vol"
   ]
  },
  {
   "cell_type": "markdown",
   "metadata": {},
   "source": [
    "### Finding Sharpe Ratio\n",
    "The shapre ratio is the division of the expected returns and expected volatility."
   ]
  },
  {
   "cell_type": "code",
   "execution_count": 12,
   "metadata": {},
   "outputs": [
    {
     "data": {
      "text/plain": [
       "0.6604280464491656"
      ]
     },
     "execution_count": 12,
     "metadata": {},
     "output_type": "execute_result"
    }
   ],
   "source": [
    "sharpe_r = expected_return/expected_vol\n",
    "sharpe_r"
   ]
  },
  {
   "cell_type": "markdown",
   "metadata": {},
   "source": [
    "The entire process of allocating random weights to finding the sharpe ratio was done just once. But ideally we need to repeat the process multiple times with different combination of weights to find the optimal allocations. So the entire process is run multiple times using a 'for' loop. "
   ]
  },
  {
   "cell_type": "code",
   "execution_count": 13,
   "metadata": {},
   "outputs": [],
   "source": [
    "np.random.seed(200)\n",
    "\n",
    "# Initalization of variables\n",
    "portfolio_number = 7000\n",
    "weights_total = np.zeros((portfolio_number,len(df.columns)))\n",
    "returns = np.zeros(portfolio_number)\n",
    "volatility = np.zeros(portfolio_number)\n",
    "sharpe = np.zeros(portfolio_number)\n",
    "\n",
    "for i in range(portfolio_number):\n",
    "\n",
    "    # Random weights\n",
    "    weights = np.array(np.random.random(3))\n",
    "    weights = weights/np.sum(weights)\n",
    "    # Append weight\n",
    "    weights_total[i,:] = weights\n",
    "\n",
    "    # Expected return\n",
    "    returns[i] = np.sum((log_returns.mean()* weights) * 252)\n",
    "\n",
    "    # Expected volume\n",
    "    volatility[i] = np.sqrt(np.dot(weights.T,np.dot(log_returns.cov()*252,weights)))\n",
    "\n",
    "    # Sharpe ratio\n",
    "    sharpe[i] = returns[i]/volatility[i]"
   ]
  },
  {
   "cell_type": "markdown",
   "metadata": {},
   "source": [
    "The maximum value in the sharpe ratio array if found along with its index. Maximum value of the sharpe ratio indicates the best combination of the allocations."
   ]
  },
  {
   "cell_type": "code",
   "execution_count": 14,
   "metadata": {},
   "outputs": [
    {
     "data": {
      "text/plain": [
       "1.091492698172807"
      ]
     },
     "execution_count": 14,
     "metadata": {},
     "output_type": "execute_result"
    }
   ],
   "source": [
    "max_sharpe = sharpe.max()\n",
    "max_sharpe"
   ]
  },
  {
   "cell_type": "code",
   "execution_count": 15,
   "metadata": {},
   "outputs": [
    {
     "data": {
      "text/plain": [
       "343"
      ]
     },
     "execution_count": 15,
     "metadata": {},
     "output_type": "execute_result"
    }
   ],
   "source": [
    "max_sharpe_index = sharpe.argmax()\n",
    "max_sharpe_index"
   ]
  },
  {
   "cell_type": "markdown",
   "metadata": {},
   "source": [
    "The weights, return and volatility are found at the index where the sharpe ratio is maximum."
   ]
  },
  {
   "cell_type": "code",
   "execution_count": 16,
   "metadata": {},
   "outputs": [
    {
     "data": {
      "text/plain": [
       "array([6.71707148e-01, 2.83931652e-04, 3.28008920e-01])"
      ]
     },
     "execution_count": 16,
     "metadata": {},
     "output_type": "execute_result"
    }
   ],
   "source": [
    "max_sharpe_weights = weights_total[343,:]\n",
    "max_sharpe_weights"
   ]
  },
  {
   "cell_type": "code",
   "execution_count": 17,
   "metadata": {},
   "outputs": [
    {
     "data": {
      "text/plain": [
       "0.2714466221609141"
      ]
     },
     "execution_count": 17,
     "metadata": {},
     "output_type": "execute_result"
    }
   ],
   "source": [
    "max_sharpe_return = returns[max_sharpe_index]\n",
    "max_sharpe_return"
   ]
  },
  {
   "cell_type": "code",
   "execution_count": 18,
   "metadata": {},
   "outputs": [
    {
     "data": {
      "text/plain": [
       "0.24869302617903377"
      ]
     },
     "execution_count": 18,
     "metadata": {},
     "output_type": "execute_result"
    }
   ],
   "source": [
    "max_sharpe_vol = volatility[max_sharpe_index]\n",
    "max_sharpe_vol"
   ]
  },
  {
   "cell_type": "markdown",
   "metadata": {},
   "source": [
    "### Plot\n",
    "The return is plotted against volatility on the basis of the sharpe ratio obtained which outputs a bullet shaped plot. Along with this, the point with the highest sharpe ratio is plotted with a red dot."
   ]
  },
  {
   "cell_type": "code",
   "execution_count": 19,
   "metadata": {},
   "outputs": [
    {
     "data": {
      "text/plain": [
       "<matplotlib.collections.PathCollection at 0x24f8c8f1b88>"
      ]
     },
     "execution_count": 19,
     "metadata": {},
     "output_type": "execute_result"
    },
    {
     "data": {
      "image/png": "[encoded data removed]",
      "text/plain": [
       "<Figure size 864x576 with 2 Axes>"
      ]
     },
     "metadata": {
      "needs_background": "light"
     },
     "output_type": "display_data"
    }
   ],
   "source": [
    "plt.figure(figsize=(12,8))\n",
    "plt.scatter(volatility,returns,c=sharpe)\n",
    "plt.colorbar(label='Sharpe Ratio')\n",
    "plt.xlabel('Volatility')\n",
    "plt.ylabel('Return')\n",
    "\n",
    "plt.scatter(max_sharpe_vol,max_sharpe_return,c='red',s=50)"
   ]
  },
  {
   "cell_type": "markdown",
   "metadata": {},
   "source": [
    "## Optimization method - Mathematical\n",
    "A function is defined which takes in the weights and returns the returns,volatility and sharpe ratio."
   ]
  },
  {
   "cell_type": "code",
   "execution_count": 20,
   "metadata": {},
   "outputs": [],
   "source": [
    "def stats(weights):\n",
    "    weights = np.array(weights)\n",
    "    expected_return = np.sum((log_returns.mean()* weights) * 252)\n",
    "    expected_vol = np.sqrt(np.dot(weights.T,np.dot(log_returns.cov()*252,weights)))\n",
    "    sharpe_r = expected_return/expected_vol\n",
    "    return np.array([expected_return,expected_vol,sharpe_r])"
   ]
  },
  {
   "cell_type": "markdown",
   "metadata": {},
   "source": [
    "The python SciPy module will be used to create the mathematical optimization function."
   ]
  },
  {
   "cell_type": "code",
   "execution_count": 21,
   "metadata": {},
   "outputs": [],
   "source": [
    "from scipy.optimize import minimize"
   ]
  },
  {
   "cell_type": "markdown",
   "metadata": {},
   "source": [
    "The optimization idea is to minimize the negative sharpe ratio. So a function is created which negates the sharpe ratio obtained using the function created above."
   ]
  },
  {
   "cell_type": "code",
   "execution_count": 22,
   "metadata": {},
   "outputs": [],
   "source": [
    "def sr_negate(weights):\n",
    "    neg_sr = stats(weights)[2] * -1\n",
    "    return neg_sr"
   ]
  },
  {
   "cell_type": "markdown",
   "metadata": {},
   "source": [
    "Next a condition has to be checked that the sum of the weights equals to 1. So for this also a function is created. The weights are summed and then subtracted with 1. If the value returned is 0 then the sum is 1."
   ]
  },
  {
   "cell_type": "code",
   "execution_count": 23,
   "metadata": {},
   "outputs": [],
   "source": [
    "def weight_check(weights):\n",
    "    weights_sum = np.sum(weights)\n",
    "    return weights_sum - 1"
   ]
  },
  {
   "cell_type": "markdown",
   "metadata": {},
   "source": [
    "The next thing to do is define constraints, bounds and the initial guess. The constraints takes in a tuple of dictionary where the first element describes the type to be an equation (since the 'weight_check' function return a value by solving an equation) and the second element decribes the function as 'weight_check'. Since the weights can be in the range of 0 to 1, the bounds are set accordingly and the inital guess is also mentioned."
   ]
  },
  {
   "cell_type": "code",
   "execution_count": 24,
   "metadata": {},
   "outputs": [],
   "source": [
    "constraints = ({'type':'eq','fun':weight_check})\n",
    "bounds = ((0,1),(0,1),(0,1))\n",
    "initial_guess = [0.3,0.3,0.4]"
   ]
  },
  {
   "cell_type": "markdown",
   "metadata": {},
   "source": [
    "Now all these variables are passed through the minimization function of scipy. It take the function which has to be minimized, followed by the initial guess, then the solver which is used to carry out the minimization. The solver used will be the Sequential Least Squares Programming (SLSQP) one as it is used for the most basic tasks. Then the bounds, contraints are also mentioned."
   ]
  },
  {
   "cell_type": "code",
   "execution_count": 25,
   "metadata": {},
   "outputs": [
    {
     "data": {
      "text/plain": [
       "     fun: -1.0927303413720688\n",
       "     jac: array([ 1.26287341e-04,  2.89727578e+00, -2.90006399e-04])\n",
       " message: 'Optimization terminated successfully'\n",
       "    nfev: 20\n",
       "     nit: 5\n",
       "    njev: 5\n",
       "  status: 0\n",
       " success: True\n",
       "       x: array([6.96661817e-01, 3.01299784e-15, 3.03338183e-01])"
      ]
     },
     "execution_count": 25,
     "metadata": {},
     "output_type": "execute_result"
    }
   ],
   "source": [
    "results = minimize(sr_negate,initial_guess,method='SLSQP',bounds=bounds,constraints=constraints)\n",
    "results"
   ]
  },
  {
   "cell_type": "markdown",
   "metadata": {},
   "source": [
    "Now the value 'x' contains the optimized allocation of weights which is extracted and then passed through the 'stats' function which returns the return, volatility and sharpe ration."
   ]
  },
  {
   "cell_type": "code",
   "execution_count": 26,
   "metadata": {},
   "outputs": [
    {
     "data": {
      "text/plain": [
       "array([6.96661817e-01, 3.01299784e-15, 3.03338183e-01])"
      ]
     },
     "execution_count": 26,
     "metadata": {},
     "output_type": "execute_result"
    }
   ],
   "source": [
    "wt = results.x\n",
    "wt"
   ]
  },
  {
   "cell_type": "code",
   "execution_count": 27,
   "metadata": {},
   "outputs": [
    {
     "data": {
      "text/plain": [
       "array([0.27569923, 0.25230308, 1.09273034])"
      ]
     },
     "execution_count": 27,
     "metadata": {},
     "output_type": "execute_result"
    }
   ],
   "source": [
    "stats(wt)"
   ]
  },
  {
   "cell_type": "markdown",
   "metadata": {},
   "source": [
    "### Plot efficient frontier\n",
    "The efficient frontier is the set of optimal portfolios that have the highest expected return for the lowest risk for a given level of expected return.\n",
    "\n",
    "The frontier level (return level) is set which takes in values from -0.6 to 0.4 for 200 points since the returns on the previously obtained bullet shaoed graph have the same range."
   ]
  },
  {
   "cell_type": "code",
   "execution_count": 35,
   "metadata": {},
   "outputs": [],
   "source": [
    "frontier_return = np.linspace(-0.6,0.4,200)"
   ]
  },
  {
   "cell_type": "markdown",
   "metadata": {},
   "source": [
    "Then next for the volatility has to be minimized a function is defined for it which will be used later while defining the constraints."
   ]
  },
  {
   "cell_type": "code",
   "execution_count": 36,
   "metadata": {},
   "outputs": [],
   "source": [
    "def min_vol(weights):\n",
    "    vol = stats(weights)[1]\n",
    "    return vol"
   ]
  },
  {
   "cell_type": "markdown",
   "metadata": {},
   "source": [
    "Now next thing to do is iterate through the frontier that is the returns and for each return calculate the minimum volatility by calling the scipy minimize function. The constraints are defined where the weights are checked and the difference of return and expected return is found. As before the inital guess, method and bounds remain the same. The the minimize function return a function value which is the minimum volatility and it will be saved in an array."
   ]
  },
  {
   "cell_type": "code",
   "execution_count": 41,
   "metadata": {},
   "outputs": [],
   "source": [
    "frontier_volatility = []\n",
    "\n",
    "for exp_return in frontier_return:\n",
    "    constraints = ({'type':'eq','fun':weight_check},\n",
    "                   {'type':'eq','fun':lambda x: stats(x)[0]-exp_return})\n",
    "    result = minimize(min_vol,initial_guess,method='SLSQP',bounds=bounds,constraints=constraints)\n",
    "    frontier_volatility.append(result['fun'])"
   ]
  },
  {
   "cell_type": "markdown",
   "metadata": {},
   "source": [
    "Now using the frontier returns and volatility array, the efficient frontier can be drawn along with the intial guesses obatined using the bullet shaped graph before. The efficient frontier tells us that for each desire level of volatility what is the best possible return that can be obtained."
   ]
  },
  {
   "cell_type": "code",
   "execution_count": 42,
   "metadata": {},
   "outputs": [
    {
     "data": {
      "text/plain": [
       "[<matplotlib.lines.Line2D at 0x24fac0ada08>]"
      ]
     },
     "execution_count": 42,
     "metadata": {},
     "output_type": "execute_result"
    },
    {
     "data": {
      "image/png": "[encoded data removed]",
      "text/plain": [
       "<Figure size 864x576 with 2 Axes>"
      ]
     },
     "metadata": {
      "needs_background": "light"
     },
     "output_type": "display_data"
    }
   ],
   "source": [
    "plt.figure(figsize=(12,8))\n",
    "plt.scatter(volatility,returns,c=sharpe)\n",
    "plt.colorbar(label='Sharpe Ratio')\n",
    "plt.xlabel('Volatility')\n",
    "plt.ylabel('Return')\n",
    "\n",
    "plt.plot(frontier_volatility,frontier_return,'r--',linewidth=3)"
   ]
  },
  {
   "cell_type": "code",
   "execution_count": null,
   "metadata": {},
   "outputs": [],
   "source": []
  }
 ],
 "metadata": {
  "kernelspec": {
   "display_name": "Python 3",
   "language": "python",
   "name": "python3"
  },
  "language_info": {
   "codemirror_mode": {
    "name": "ipython",
    "version": 3
   },
   "file_extension": ".py",
   "mimetype": "text/x-python",
   "name": "python",
   "nbconvert_exporter": "python",
   "pygments_lexer": "ipython3",
   "version": "3.7.7"
  }
 },
 "nbformat": 4,
 "nbformat_minor": 4
}
